{
 "cells": [
  {
   "cell_type": "markdown",
   "id": "d0fe3177-4163-4244-845b-afe08b5b6e13",
   "metadata": {},
   "source": [
    "## Recurrent Neural Network"
   ]
  },
  {
   "cell_type": "code",
   "execution_count": 21,
   "id": "7e5684b7-0f85-48c0-8035-f38e6ebd9bde",
   "metadata": {},
   "outputs": [],
   "source": [
    "import numpy as np\n",
    "import matplotlib.pyplot as plt\n",
    "import pandas as pd"
   ]
  },
  {
   "cell_type": "markdown",
   "id": "ae38d521-66e9-49e3-a031-5755f069eda3",
   "metadata": {},
   "source": [
    "#### Importing the Data Set"
   ]
  },
  {
   "cell_type": "code",
   "execution_count": 22,
   "id": "a365bc18-d11d-48a7-bf6a-ca39e11220b6",
   "metadata": {},
   "outputs": [],
   "source": [
    "dataset_train = pd.read_csv(\"C:\\\\Users\\\\5CD1478RQY!\\\\Downloads\\\\Google_Stock_Price_Train.csv\")\n",
    "training_set = dataset_train.iloc[:, 1:2].values"
   ]
  },
  {
   "cell_type": "markdown",
   "id": "d20c2da2-0638-46c8-bd50-8568fe9c2051",
   "metadata": {},
   "source": [
    "#### Feature Scaling"
   ]
  },
  {
   "cell_type": "code",
   "execution_count": 23,
   "id": "fbe2a9b6-71b5-42f8-b647-29b36e2688d1",
   "metadata": {},
   "outputs": [],
   "source": [
    "from sklearn.preprocessing import MinMaxScaler"
   ]
  },
  {
   "cell_type": "code",
   "execution_count": 24,
   "id": "897d6fe2-62f2-4a7c-b883-51bb568c65af",
   "metadata": {},
   "outputs": [
    {
     "data": {
      "text/plain": [
       "array([[0.08581368],\n",
       "       [0.09701243],\n",
       "       [0.09433366],\n",
       "       ...,\n",
       "       [0.95725128],\n",
       "       [0.93796041],\n",
       "       [0.93688146]])"
      ]
     },
     "execution_count": 24,
     "metadata": {},
     "output_type": "execute_result"
    }
   ],
   "source": [
    "sc = MinMaxScaler(feature_range = (0, 1)) ## Range is (0,1) because the Normalization lies in the range of 0,1\n",
    "training_set_scaled = sc.fit_transform(training_set) ## Advisable not to attempt the changes in the original dataset\n",
    "training_set_scaled"
   ]
  },
  {
   "cell_type": "markdown",
   "id": "05862323-66ad-4925-b946-f655e9969d24",
   "metadata": {},
   "source": [
    "#### Creating a dataset with 60 timesteps and 1 output which means each timestep represents a discrete point in time within the sequence. In this context, 60 timesteps mean you have data from 60 consecutive time points."
   ]
  },
  {
   "cell_type": "code",
   "execution_count": 25,
   "id": "a76b1cbb-6b16-49d6-82b2-dda3b1055fde",
   "metadata": {},
   "outputs": [],
   "source": [
    "## Creating two empty lists\n",
    "X_train = []  ## It will contain the input of the neural network\n",
    "Y_train = []  ## It will contain the output of the neural network\n",
    "for i in range(60,1258):\n",
    "    X_train.append(training_set_scaled[i-60:i,0])\n",
    "    Y_train.append(training_set_scaled[i,0])\n",
    "X_train , Y_train = np.array(X_train), np.array(Y_train)\n"
   ]
  },
  {
   "cell_type": "code",
   "execution_count": 26,
   "id": "e70b5c4f-3575-4ad6-8b74-034e13db1beb",
   "metadata": {},
   "outputs": [
    {
     "name": "stdout",
     "output_type": "stream",
     "text": [
      "Total number of values in Y_train: 1198\n"
     ]
    }
   ],
   "source": [
    "total_values_Y_train = Y_train.size\n",
    "print(f\"Total number of values in Y_train: {total_values_Y_train}\")\n"
   ]
  },
  {
   "cell_type": "markdown",
   "id": "5a855c38-acc6-42f4-829b-d8d78c4e6238",
   "metadata": {},
   "source": [
    "##### Reshaping"
   ]
  },
  {
   "cell_type": "code",
   "execution_count": 27,
   "id": "5bee45d1-be3d-42f3-9da3-9620d9f8f809",
   "metadata": {},
   "outputs": [],
   "source": [
    "X_train = np.reshape(X_train, (X_train.shape[0], X_train.shape[1], 1)) ## To know the order of dimensions use keras libraryx"
   ]
  },
  {
   "cell_type": "code",
   "execution_count": 28,
   "id": "c705cb98-dc87-4bf1-a64a-1e17a8535ce7",
   "metadata": {},
   "outputs": [
    {
     "data": {
      "text/plain": [
       "(1198, 60, 1)"
      ]
     },
     "execution_count": 28,
     "metadata": {},
     "output_type": "execute_result"
    }
   ],
   "source": [
    "X_train.shape"
   ]
  },
  {
   "cell_type": "markdown",
   "id": "d9c944eb-95e1-4a78-9936-46678b1fedb1",
   "metadata": {},
   "source": [
    "#### Importing the Keras libraries and Packages"
   ]
  },
  {
   "cell_type": "code",
   "execution_count": 29,
   "id": "47f3a84d-c071-438a-b936-e586f8805125",
   "metadata": {},
   "outputs": [],
   "source": [
    "from keras.models import Sequential\n",
    "from keras.layers import Dense\n",
    "from keras.layers import LSTM\n",
    "from keras.layers import Dropout"
   ]
  },
  {
   "cell_type": "markdown",
   "id": "b3841c41-5171-4649-b058-f4e737f52e7a",
   "metadata": {},
   "source": [
    "#### Initializing the RNN"
   ]
  },
  {
   "cell_type": "code",
   "execution_count": 30,
   "id": "b727f9a7-44bf-4333-a078-06cb2e12bf3b",
   "metadata": {},
   "outputs": [],
   "source": [
    "regressor = Sequential()"
   ]
  },
  {
   "cell_type": "markdown",
   "id": "6264c97a-90fe-4719-b19b-fe6787d50c9e",
   "metadata": {},
   "source": [
    "#### Adding the first layer of LSTM and other Regularisations"
   ]
  },
  {
   "cell_type": "code",
   "execution_count": 31,
   "id": "49f81e3e-114f-43ca-886c-37d9735efa21",
   "metadata": {},
   "outputs": [],
   "source": [
    "regressor.add(LSTM(units = 50 , return_sequences = True, input_shape = (X_train.shape[1], 1) )) # Number of neurons selected 50\n",
    "regressor.add(Dropout(0.2))"
   ]
  },
  {
   "cell_type": "markdown",
   "id": "d02195c2-85b5-4f0f-91ad-d9e5baf79e76",
   "metadata": {},
   "source": [
    "#### Adding Second Layer of LSTM and other Regularisation"
   ]
  },
  {
   "cell_type": "code",
   "execution_count": 32,
   "id": "104258ca-5f03-4000-963c-e116f5fd27ab",
   "metadata": {},
   "outputs": [],
   "source": [
    "regressor.add(LSTM(units = 50 , return_sequences = True, input_shape = (X_train.shape[1], 1) )) # Number of neurons selected 50\n",
    "regressor.add(Dropout(0.2))"
   ]
  },
  {
   "cell_type": "markdown",
   "id": "078baf13-a21d-44f5-be1c-038e1e0bfd55",
   "metadata": {},
   "source": [
    "#### Adding Third Layer of LSTM and other Regularisation"
   ]
  },
  {
   "cell_type": "code",
   "execution_count": 33,
   "id": "e9188e39-155e-4246-a4aa-4447d6d8a25c",
   "metadata": {},
   "outputs": [],
   "source": [
    "regressor.add(LSTM(units = 50 , return_sequences = True, input_shape = (X_train.shape[1], 1) )) # Number of neurons selected 50\n",
    "regressor.add(Dropout(0.2))"
   ]
  },
  {
   "cell_type": "markdown",
   "id": "fe3db5b5-68e3-4366-85a8-b1f5455c3dba",
   "metadata": {},
   "source": [
    "#### Adding Fourth Layer of LSTM and other Regularisation"
   ]
  },
  {
   "cell_type": "code",
   "execution_count": 34,
   "id": "9fcfd950-40f7-4231-8e45-2655eb8a9c12",
   "metadata": {},
   "outputs": [],
   "source": [
    "regressor.add(LSTM(units = 50 , return_sequences = False, input_shape = (X_train.shape[1], 1) )) # Number of neurons selected 50\n",
    "regressor.add(Dropout(0.2))"
   ]
  },
  {
   "cell_type": "markdown",
   "id": "b09a9961-97b9-4787-980e-eb89809f5b19",
   "metadata": {},
   "source": [
    "#### Output Layer"
   ]
  },
  {
   "cell_type": "code",
   "execution_count": 35,
   "id": "aaf31694-b0d0-408e-9ce3-f79ee2c8c252",
   "metadata": {},
   "outputs": [],
   "source": [
    "regressor.add(Dense(units = 1)) ## Unit should be the dimension of oitput, in this case it is 1 i.e stock"
   ]
  },
  {
   "cell_type": "markdown",
   "id": "120e977f-ceae-40ac-8bdd-2847595f80d0",
   "metadata": {},
   "source": [
    "## Till now we have done the Architecture of RNN"
   ]
  },
  {
   "cell_type": "markdown",
   "id": "7f13efc2-80a0-4e7b-b878-98667d2ba703",
   "metadata": {},
   "source": [
    "#### Compiling the RNN"
   ]
  },
  {
   "cell_type": "code",
   "execution_count": 36,
   "id": "fca5fd19-6363-46af-ace0-152aaf80bb1c",
   "metadata": {},
   "outputs": [],
   "source": [
    "regressor.compile(optimizer= 'adam',loss = 'mean_squared_error')   ## Adding optimizer and"
   ]
  },
  {
   "cell_type": "markdown",
   "id": "b024e30d-5290-4cd8-b1bc-6b58b8c4189b",
   "metadata": {},
   "source": [
    "### Making the predictions and visualizing the output"
   ]
  },
  {
   "cell_type": "code",
   "execution_count": 40,
   "id": "fcb02a12-e4b4-4e8f-b766-bd244d0269ea",
   "metadata": {},
   "outputs": [
    {
     "name": "stdout",
     "output_type": "stream",
     "text": [
      "Epoch 1/100\n",
      "38/38 [==============================] - 5s 133ms/step - loss: 0.0014\n",
      "Epoch 2/100\n",
      "38/38 [==============================] - 5s 122ms/step - loss: 0.0013\n",
      "Epoch 3/100\n",
      "38/38 [==============================] - 5s 130ms/step - loss: 0.0013\n",
      "Epoch 4/100\n",
      "38/38 [==============================] - 5s 142ms/step - loss: 0.0013\n",
      "Epoch 5/100\n",
      "38/38 [==============================] - 5s 141ms/step - loss: 0.0013\n",
      "Epoch 6/100\n",
      "38/38 [==============================] - 5s 140ms/step - loss: 0.0013\n",
      "Epoch 7/100\n",
      "38/38 [==============================] - 5s 135ms/step - loss: 0.0013\n",
      "Epoch 8/100\n",
      "38/38 [==============================] - 5s 136ms/step - loss: 0.0013\n",
      "Epoch 9/100\n",
      "38/38 [==============================] - 5s 131ms/step - loss: 0.0013\n",
      "Epoch 10/100\n",
      "38/38 [==============================] - 5s 132ms/step - loss: 0.0015\n",
      "Epoch 11/100\n",
      "38/38 [==============================] - 5s 133ms/step - loss: 0.0012\n",
      "Epoch 12/100\n",
      "38/38 [==============================] - 5s 129ms/step - loss: 0.0012\n",
      "Epoch 13/100\n",
      "38/38 [==============================] - 5s 131ms/step - loss: 0.0013\n",
      "Epoch 14/100\n",
      "38/38 [==============================] - 5s 128ms/step - loss: 0.0014\n",
      "Epoch 15/100\n",
      "38/38 [==============================] - 5s 128ms/step - loss: 0.0014\n",
      "Epoch 16/100\n",
      "38/38 [==============================] - 5s 130ms/step - loss: 0.0012\n",
      "Epoch 17/100\n",
      "38/38 [==============================] - 5s 130ms/step - loss: 0.0012\n",
      "Epoch 18/100\n",
      "38/38 [==============================] - 5s 130ms/step - loss: 0.0010\n",
      "Epoch 19/100\n",
      "38/38 [==============================] - 5s 131ms/step - loss: 0.0012\n",
      "Epoch 20/100\n",
      "38/38 [==============================] - 5s 129ms/step - loss: 0.0012\n",
      "Epoch 21/100\n",
      "38/38 [==============================] - 5s 129ms/step - loss: 0.0013\n",
      "Epoch 22/100\n",
      "38/38 [==============================] - 5s 131ms/step - loss: 0.0014\n",
      "Epoch 23/100\n",
      "38/38 [==============================] - 5s 131ms/step - loss: 0.0013\n",
      "Epoch 24/100\n",
      "38/38 [==============================] - 5s 131ms/step - loss: 0.0014\n",
      "Epoch 25/100\n",
      "38/38 [==============================] - 5s 131ms/step - loss: 0.0012\n",
      "Epoch 26/100\n",
      "38/38 [==============================] - 5s 133ms/step - loss: 0.0012\n",
      "Epoch 27/100\n",
      "38/38 [==============================] - 5s 130ms/step - loss: 0.0013\n",
      "Epoch 28/100\n",
      "38/38 [==============================] - 5s 131ms/step - loss: 0.0013\n",
      "Epoch 29/100\n",
      "38/38 [==============================] - 5s 133ms/step - loss: 0.0011\n",
      "Epoch 30/100\n",
      "38/38 [==============================] - 5s 132ms/step - loss: 0.0012\n",
      "Epoch 31/100\n",
      "38/38 [==============================] - 5s 133ms/step - loss: 0.0011\n",
      "Epoch 32/100\n",
      "38/38 [==============================] - 5s 132ms/step - loss: 0.0012\n",
      "Epoch 33/100\n",
      "38/38 [==============================] - 5s 131ms/step - loss: 0.0012\n",
      "Epoch 34/100\n",
      "38/38 [==============================] - 5s 134ms/step - loss: 0.0011\n",
      "Epoch 35/100\n",
      "38/38 [==============================] - 5s 136ms/step - loss: 0.0012\n",
      "Epoch 36/100\n",
      "38/38 [==============================] - 5s 138ms/step - loss: 0.0011\n",
      "Epoch 37/100\n",
      "38/38 [==============================] - 6s 146ms/step - loss: 0.0011\n",
      "Epoch 38/100\n",
      "38/38 [==============================] - 6s 148ms/step - loss: 0.0013\n",
      "Epoch 39/100\n",
      "38/38 [==============================] - 6s 146ms/step - loss: 0.0011\n",
      "Epoch 40/100\n",
      "38/38 [==============================] - 5s 144ms/step - loss: 0.0010\n",
      "Epoch 41/100\n",
      "38/38 [==============================] - 5s 132ms/step - loss: 0.0011\n",
      "Epoch 42/100\n",
      "38/38 [==============================] - 5s 133ms/step - loss: 0.0012\n",
      "Epoch 43/100\n",
      "38/38 [==============================] - 5s 131ms/step - loss: 0.0012\n",
      "Epoch 44/100\n",
      "38/38 [==============================] - 6s 147ms/step - loss: 0.0011\n",
      "Epoch 45/100\n",
      "38/38 [==============================] - 6s 146ms/step - loss: 0.0012\n",
      "Epoch 46/100\n",
      "38/38 [==============================] - 5s 140ms/step - loss: 0.0011\n",
      "Epoch 47/100\n",
      "38/38 [==============================] - 5s 139ms/step - loss: 0.0011\n",
      "Epoch 48/100\n",
      "38/38 [==============================] - 5s 137ms/step - loss: 0.0012\n",
      "Epoch 49/100\n",
      "38/38 [==============================] - 5s 130ms/step - loss: 0.0010\n",
      "Epoch 50/100\n",
      "38/38 [==============================] - 5s 130ms/step - loss: 9.7514e-04\n",
      "Epoch 51/100\n",
      "38/38 [==============================] - 5s 131ms/step - loss: 0.0012\n",
      "Epoch 52/100\n",
      "38/38 [==============================] - 5s 131ms/step - loss: 0.0011\n",
      "Epoch 53/100\n",
      "38/38 [==============================] - 5s 131ms/step - loss: 0.0011\n",
      "Epoch 54/100\n",
      "38/38 [==============================] - 5s 131ms/step - loss: 0.0010\n",
      "Epoch 55/100\n",
      "38/38 [==============================] - 5s 131ms/step - loss: 0.0010\n",
      "Epoch 56/100\n",
      "38/38 [==============================] - 5s 131ms/step - loss: 0.0011\n",
      "Epoch 57/100\n",
      "38/38 [==============================] - 5s 132ms/step - loss: 0.0011\n",
      "Epoch 58/100\n",
      "38/38 [==============================] - 5s 134ms/step - loss: 0.0011\n",
      "Epoch 59/100\n",
      "38/38 [==============================] - 5s 134ms/step - loss: 0.0010\n",
      "Epoch 60/100\n",
      "38/38 [==============================] - 5s 133ms/step - loss: 0.0011\n",
      "Epoch 61/100\n",
      "38/38 [==============================] - 5s 132ms/step - loss: 0.0012\n",
      "Epoch 62/100\n",
      "38/38 [==============================] - 5s 131ms/step - loss: 0.0010\n",
      "Epoch 63/100\n",
      "38/38 [==============================] - 5s 130ms/step - loss: 9.4536e-04\n",
      "Epoch 64/100\n",
      "38/38 [==============================] - 5s 127ms/step - loss: 0.0011\n",
      "Epoch 65/100\n",
      "38/38 [==============================] - 5s 127ms/step - loss: 0.0011\n",
      "Epoch 66/100\n",
      "38/38 [==============================] - 5s 131ms/step - loss: 9.5704e-04\n",
      "Epoch 67/100\n",
      "38/38 [==============================] - 5s 124ms/step - loss: 0.0012\n",
      "Epoch 68/100\n",
      "38/38 [==============================] - 5s 130ms/step - loss: 9.7446e-04\n",
      "Epoch 69/100\n",
      "38/38 [==============================] - 5s 132ms/step - loss: 9.6484e-04\n",
      "Epoch 70/100\n",
      "38/38 [==============================] - 5s 131ms/step - loss: 0.0011\n",
      "Epoch 71/100\n",
      "38/38 [==============================] - 5s 130ms/step - loss: 0.0012\n",
      "Epoch 72/100\n",
      "38/38 [==============================] - 5s 130ms/step - loss: 0.0011\n",
      "Epoch 73/100\n",
      "38/38 [==============================] - 5s 130ms/step - loss: 0.0011\n",
      "Epoch 74/100\n",
      "38/38 [==============================] - 5s 128ms/step - loss: 9.7612e-04\n",
      "Epoch 75/100\n",
      "38/38 [==============================] - 5s 133ms/step - loss: 0.0010\n",
      "Epoch 76/100\n",
      "38/38 [==============================] - 5s 128ms/step - loss: 9.7782e-04\n",
      "Epoch 77/100\n",
      "38/38 [==============================] - 5s 129ms/step - loss: 0.0010\n",
      "Epoch 78/100\n",
      "38/38 [==============================] - 5s 130ms/step - loss: 9.8912e-04\n",
      "Epoch 79/100\n",
      "38/38 [==============================] - 5s 131ms/step - loss: 0.0010\n",
      "Epoch 80/100\n",
      "38/38 [==============================] - 5s 135ms/step - loss: 9.4705e-04\n",
      "Epoch 81/100\n",
      "38/38 [==============================] - 5s 141ms/step - loss: 9.3535e-04\n",
      "Epoch 82/100\n",
      "38/38 [==============================] - 6s 149ms/step - loss: 9.7441e-04\n",
      "Epoch 83/100\n",
      "38/38 [==============================] - 6s 151ms/step - loss: 9.6738e-04\n",
      "Epoch 84/100\n",
      "38/38 [==============================] - 6s 153ms/step - loss: 9.1559e-04\n",
      "Epoch 85/100\n",
      "38/38 [==============================] - 6s 152ms/step - loss: 0.0011\n",
      "Epoch 86/100\n",
      "38/38 [==============================] - 6s 151ms/step - loss: 0.0011\n",
      "Epoch 87/100\n",
      "38/38 [==============================] - 6s 154ms/step - loss: 0.0010\n",
      "Epoch 88/100\n",
      "38/38 [==============================] - 6s 152ms/step - loss: 9.8708e-04\n",
      "Epoch 89/100\n",
      "38/38 [==============================] - 6s 152ms/step - loss: 9.9751e-04\n",
      "Epoch 90/100\n",
      "38/38 [==============================] - 6s 145ms/step - loss: 9.2278e-04\n",
      "Epoch 91/100\n",
      "38/38 [==============================] - 5s 132ms/step - loss: 9.8461e-04\n",
      "Epoch 92/100\n",
      "38/38 [==============================] - 5s 142ms/step - loss: 9.2103e-04\n",
      "Epoch 93/100\n",
      "38/38 [==============================] - 6s 148ms/step - loss: 0.0010\n",
      "Epoch 94/100\n",
      "38/38 [==============================] - 5s 141ms/step - loss: 0.0011\n",
      "Epoch 95/100\n",
      "38/38 [==============================] - 5s 128ms/step - loss: 0.0011\n",
      "Epoch 96/100\n",
      "38/38 [==============================] - 5s 128ms/step - loss: 0.0011\n",
      "Epoch 97/100\n",
      "38/38 [==============================] - 5s 128ms/step - loss: 0.0011\n",
      "Epoch 98/100\n",
      "38/38 [==============================] - 5s 128ms/step - loss: 8.7621e-04\n",
      "Epoch 99/100\n",
      "38/38 [==============================] - 5s 131ms/step - loss: 0.0011\n",
      "Epoch 100/100\n",
      "38/38 [==============================] - 5s 132ms/step - loss: 0.0010\n"
     ]
    },
    {
     "data": {
      "text/plain": [
       "<keras.src.callbacks.History at 0x23fb51b45d0>"
      ]
     },
     "execution_count": 40,
     "metadata": {},
     "output_type": "execute_result"
    }
   ],
   "source": [
    "## Fitting the RNN to the training set\n",
    "regressor.fit(X_train, Y_train, epochs = 100, batch_size = 32)"
   ]
  },
  {
   "cell_type": "markdown",
   "id": "0b4e86a2-b5e5-41eb-9427-8c91fdbdcf4e",
   "metadata": {},
   "source": [
    "#### Importing the Test Data"
   ]
  },
  {
   "cell_type": "code",
   "execution_count": 41,
   "id": "fccda045-983a-409c-8296-118933ef220a",
   "metadata": {},
   "outputs": [],
   "source": [
    "dataset_test = pd.read_csv(\"C:\\\\Users\\\\5CD1478RQY!\\\\Downloads\\\\Google_Stock_Price_Test.csv\")\n",
    "real_stock_price = dataset_test.iloc[:, 1:2].values"
   ]
  },
  {
   "cell_type": "code",
   "execution_count": 54,
   "id": "855ed80e-6cd3-454d-a1fc-51d75a302497",
   "metadata": {},
   "outputs": [
    {
     "name": "stdout",
     "output_type": "stream",
     "text": [
      "1/1 [==============================] - 0s 46ms/step\n"
     ]
    }
   ],
   "source": [
    "## Getting the Predicted Stock Price\n",
    "dataset_total = pd.concat((dataset_train['Open'], dataset_test['Open']), axis=0)\n",
    "inputs = dataset_total[len(dataset_total) - len(dataset_test) - 60:].values ##  Gives the lower bound data\n",
    "inputs = inputs.reshape(-1,1)\n",
    "inputs = sc.transform(inputs)\n",
    "X_test = []  ## It will contain the input of the neural network\n",
    "for i in range(60,80):\n",
    "    X_test.append(inputs[i-60:i,0])\n",
    "X_test = np.array(X_test)\n",
    "X_test = np.reshape(X_test, (X_test.shape[0], X_test.shape[1], 1)) ## To know the order of dimensions use keras libraryx\n",
    "predicted_stock_price = regressor.predict(X_test)\n",
    "predicted_stock_price = sc.inverse_transform(predicted_stock_price)"
   ]
  },
  {
   "cell_type": "code",
   "execution_count": 55,
   "id": "251ce7e5-0153-4aad-b3d2-ece0ddf1f3dd",
   "metadata": {},
   "outputs": [
    {
     "data": {
      "text/plain": [
       "array([[788.0985 ],\n",
       "       [786.0938 ],\n",
       "       [792.2643 ],\n",
       "       [791.27814],\n",
       "       [796.33734],\n",
       "       [804.948  ],\n",
       "       [806.5672 ],\n",
       "       [804.2792 ],\n",
       "       [806.3007 ],\n",
       "       [807.8821 ],\n",
       "       [807.85486],\n",
       "       [806.96234],\n",
       "       [806.706  ],\n",
       "       [808.28656],\n",
       "       [808.8529 ],\n",
       "       [819.20386],\n",
       "       [825.21466],\n",
       "       [830.5169 ],\n",
       "       [829.00226],\n",
       "       [816.21814]], dtype=float32)"
      ]
     },
     "execution_count": 55,
     "metadata": {},
     "output_type": "execute_result"
    }
   ],
   "source": [
    "predicted_stock_price"
   ]
  },
  {
   "cell_type": "markdown",
   "id": "ee9d1a30-ab19-45ca-84b6-f33866dc7034",
   "metadata": {},
   "source": [
    "#### Visualizing the Results"
   ]
  },
  {
   "cell_type": "code",
   "execution_count": 57,
   "id": "45aedd39-0752-4119-9c1d-d600c5028c51",
   "metadata": {},
   "outputs": [
    {
     "data": {
      "image/png": "[encoded data removed]",
      "text/plain": [
       "<Figure size 640x480 with 1 Axes>"
      ]
     },
     "metadata": {},
     "output_type": "display_data"
    }
   ],
   "source": [
    "plt.plot(real_stock_price, color= 'red', label = 'Real Google Stock Price')\n",
    "plt.plot(predicted_stock_price, color= 'blue', label = 'Predicted Google Stock Price')\n",
    "plt.title('Google Stock Price Prediction')\n",
    "plt.xlabel('Time')\n",
    "plt.ylabel('Google Stock Price')\n",
    "plt.legend()\n",
    "plt.show()"
   ]
  },
  {
   "cell_type": "code",
   "execution_count": null,
   "id": "69a26c95-e5da-44b3-9e0c-30a8deceb68f",
   "metadata": {},
   "outputs": [],
   "source": []
  }
 ],
 "metadata": {
  "kernelspec": {
   "display_name": "Python 3 (ipykernel)",
   "language": "python",
   "name": "python3"
  },
  "language_info": {
   "codemirror_mode": {
    "name": "ipython",
    "version": 3
   },
   "file_extension": ".py",
   "mimetype": "text/x-python",
   "name": "python",
   "nbconvert_exporter": "python",
   "pygments_lexer": "ipython3",
   "version": "3.11.5"
  }
 },
 "nbformat": 4,
 "nbformat_minor": 5
}
